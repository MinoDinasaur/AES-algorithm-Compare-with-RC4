{
  "nbformat": 4,
  "nbformat_minor": 0,
  "metadata": {
    "colab": {
      "provenance": []
    },
    "kernelspec": {
      "name": "python3",
      "display_name": "Python 3"
    },
    "language_info": {
      "name": "python"
    }
  },
  "cells": [
    {
      "cell_type": "code",
      "execution_count": 3,
      "metadata": {
        "colab": {
          "base_uri": "https://localhost:8080/"
        },
        "id": "5pTx-cwuBuaZ",
        "outputId": "0f5bf751-49d2-4c07-a19c-29381d4086cc"
      },
      "outputs": [
        {
          "output_type": "stream",
          "name": "stdout",
          "text": [
            "Requirement already satisfied: pycryptodome in /usr/local/lib/python3.10/dist-packages (3.20.0)\n",
            "Time taken for AES encryption: 0.000204 seconds\n",
            "Time taken for AES decryption: 0.000085 seconds\n"
          ]
        }
      ],
      "source": [
        "!pip install pycryptodome\n",
        "from Crypto.Cipher import AES\n",
        "from Crypto.Util.Padding import pad, unpad\n",
        "from Crypto.Random import get_random_bytes\n",
        "import time\n",
        "\n",
        "# Hàm mã hóa AES\n",
        "def encrypt_aes(plaintext, key):\n",
        "    cipher = AES.new(key, AES.MODE_CBC)  # Sử dụng chế độ CBC\n",
        "    ct_bytes = cipher.encrypt(pad(plaintext, AES.block_size))\n",
        "    iv = cipher.iv  # Initialization vector\n",
        "    return iv + ct_bytes  # Gộp IV và ciphertext để dễ dàng giải mã\n",
        "\n",
        "# Hàm giải mã AES\n",
        "def decrypt_aes(ciphertext, key):\n",
        "    iv = ciphertext[:AES.block_size]  # Tách IV từ ciphertext\n",
        "    ct = ciphertext[AES.block_size:]  # Lấy phần còn lại là ciphertext thực sự\n",
        "    cipher = AES.new(key, AES.MODE_CBC, iv)  # Sử dụng cùng chế độ CBC và IV khi mã hóa\n",
        "    pt = unpad(cipher.decrypt(ct), AES.block_size)\n",
        "    return pt\n",
        "\n",
        "# Đo lường thời gian\n",
        "def measure_time(func, *args):\n",
        "    start = time.time()\n",
        "    func(*args)\n",
        "    end = time.time()\n",
        "    return end - start\n",
        "\n",
        "# Tạo key ngẫu nhiên cho AES\n",
        "key_aes = get_random_bytes(16)  # AES-128\n",
        "\n",
        "# Dữ liệu mẫu để mã hóa\n",
        "plaintext = b\"ThisIsMyPlainTextUWillNotKnowHeHE\"\n",
        "\n",
        "# Đo lường thời gian mã hóa và giải mã bằng AES\n",
        "time_aes_encrypt = measure_time(encrypt_aes, plaintext, key_aes)\n",
        "encrypted_aes = encrypt_aes(plaintext, key_aes)\n",
        "time_aes_decrypt = measure_time(decrypt_aes, encrypted_aes, key_aes)\n",
        "\n",
        "print(f'Time taken for AES encryption: {time_aes_encrypt:.6f} seconds')\n",
        "print(f'Time taken for AES decryption: {time_aes_decrypt:.6f} seconds')\n"
      ]
    },
    {
      "cell_type": "code",
      "source": [],
      "metadata": {
        "id": "0SWoZ_ToB06f"
      },
      "execution_count": null,
      "outputs": []
    }
  ]
}