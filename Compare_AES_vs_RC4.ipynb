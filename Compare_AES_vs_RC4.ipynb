{
  "nbformat": 4,
  "nbformat_minor": 0,
  "metadata": {
    "colab": {
      "provenance": [],
      "gpuType": "T4"
    },
    "kernelspec": {
      "name": "python3",
      "display_name": "Python 3"
    },
    "language_info": {
      "name": "python"
    },
    "accelerator": "GPU"
  },
  "cells": [
    {
      "cell_type": "code",
      "source": [
        "!pip install pycryptodome"
      ],
      "metadata": {
        "colab": {
          "base_uri": "https://localhost:8080/"
        },
        "id": "Xqr0bHj-Uwgd",
        "outputId": "791def95-10aa-4f38-e6dc-b611183e255f"
      },
      "execution_count": 2,
      "outputs": [
        {
          "output_type": "stream",
          "name": "stdout",
          "text": [
            "Collecting pycryptodome\n",
            "  Downloading pycryptodome-3.20.0-cp35-abi3-manylinux_2_17_x86_64.manylinux2014_x86_64.whl (2.1 MB)\n",
            "\u001b[?25l     \u001b[90m━━━━━━━━━━━━━━━━━━━━━━━━━━━━━━━━━━━━━━━━\u001b[0m \u001b[32m0.0/2.1 MB\u001b[0m \u001b[31m?\u001b[0m eta \u001b[36m-:--:--\u001b[0m\r\u001b[2K     \u001b[91m━━━━━━━━━━━\u001b[0m\u001b[91m╸\u001b[0m\u001b[90m━━━━━━━━━━━━━━━━━━━━━━━━━━━━\u001b[0m \u001b[32m0.6/2.1 MB\u001b[0m \u001b[31m19.3 MB/s\u001b[0m eta \u001b[36m0:00:01\u001b[0m\r\u001b[2K     \u001b[90m━━━━━━━━━━━━━━━━━━━━━━━━━━━━━━━━━━━━━━━━\u001b[0m \u001b[32m2.1/2.1 MB\u001b[0m \u001b[31m33.7 MB/s\u001b[0m eta \u001b[36m0:00:00\u001b[0m\n",
            "\u001b[?25hInstalling collected packages: pycryptodome\n",
            "Successfully installed pycryptodome-3.20.0\n"
          ]
        }
      ]
    },
    {
      "cell_type": "code",
      "execution_count": 5,
      "metadata": {
        "colab": {
          "base_uri": "https://localhost:8080/"
        },
        "id": "01ywzipw04Td",
        "outputId": "020b5b30-d486-4f43-d108-c5c7361d54ee"
      },
      "outputs": [
        {
          "output_type": "stream",
          "name": "stdout",
          "text": [
            "/content/text.txt has been encrypted with AES in 0.000357 seconds, saved as: /content/text.txt.aes\n",
            "/content/text.txt has been encrypted with RC4 in 0.000231 seconds, saved as: /content/text.txt.rc4\n",
            "/content/text_1.txt has been encrypted with AES in 0.000692 seconds, saved as: /content/text_1.txt.aes\n",
            "/content/text_1.txt has been encrypted with RC4 in 0.002172 seconds, saved as: /content/text_1.txt.rc4\n",
            "/content/text_2.txt has been encrypted with AES in 0.000669 seconds, saved as: /content/text_2.txt.aes\n",
            "/content/text_2.txt has been encrypted with RC4 in 0.000575 seconds, saved as: /content/text_2.txt.rc4\n",
            "/content/text_3.txt has been encrypted with AES in 0.000672 seconds, saved as: /content/text_3.txt.aes\n",
            "/content/text_3.txt has been encrypted with RC4 in 0.000663 seconds, saved as: /content/text_3.txt.rc4\n"
          ]
        }
      ],
      "source": [
        "from Crypto.Cipher import AES, ARC4\n",
        "from Crypto.Util.Padding import pad, unpad\n",
        "from Crypto.Random import get_random_bytes\n",
        "import time\n",
        "import os\n",
        "\n",
        "def encrypt_file_aes(file_path, key):\n",
        "    cipher = AES.new(key, AES.MODE_CBC)\n",
        "    with open(file_path, 'rb') as f:\n",
        "        plaintext = f.read()\n",
        "    ct_bytes = cipher.encrypt(pad(plaintext, AES.block_size))\n",
        "    iv = cipher.iv\n",
        "    encrypted_file_path = file_path + \".aes\"\n",
        "    with open(encrypted_file_path, 'wb') as f:\n",
        "        f.write(iv + ct_bytes)\n",
        "    return encrypted_file_path\n",
        "\n",
        "def encrypt_file_rc4(file_path, key):\n",
        "    cipher = ARC4.new(key)\n",
        "    with open(file_path, 'rb') as f:\n",
        "        plaintext = f.read()\n",
        "    ct_bytes = cipher.encrypt(plaintext)\n",
        "    encrypted_file_path = file_path + \".rc4\"\n",
        "    with open(encrypted_file_path, 'wb') as f:\n",
        "        f.write(ct_bytes)\n",
        "    return encrypted_file_path\n",
        "\n",
        "def measure_time(func, *args):\n",
        "    start_time = time.time()\n",
        "    result = func(*args)\n",
        "    end_time = time.time()\n",
        "    return end_time - start_time, result\n",
        "\n",
        "key_aes = get_random_bytes(16)\n",
        "key_rc4 = get_random_bytes(16)\n",
        "\n",
        "file_paths = ['/content/text.txt', '/content/text_1.txt', '/content/text_2.txt', '/content/text_3.txt']\n",
        "\n",
        "for file_path in file_paths:\n",
        "    # Measure and perform encryption for AES\n",
        "    time_aes, encrypted_file_aes = measure_time(encrypt_file_aes, file_path, key_aes)\n",
        "    print(f'{file_path} has been encrypted with AES in {time_aes:.6f} seconds, saved as: {encrypted_file_aes}')\n",
        "\n",
        "    # Measure and perform encryption for RC4\n",
        "    time_rc4, encrypted_file_rc4 = measure_time(encrypt_file_rc4, file_path, key_rc4)\n",
        "    print(f'{file_path} has been encrypted with RC4 in {time_rc4:.6f} seconds, saved as: {encrypted_file_rc4}')\n"
      ]
    }
  ]
}